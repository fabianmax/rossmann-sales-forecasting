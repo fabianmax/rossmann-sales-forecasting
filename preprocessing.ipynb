{
 "cells": [
  {
   "cell_type": "code",
   "execution_count": 1,
   "metadata": {},
   "outputs": [],
   "source": [
    "import pandas as pd\n",
    "\n",
    "from sklearn.preprocessing import OneHotEncoder\n",
    "from utils import create_features, create_holidays"
   ]
  },
  {
   "cell_type": "code",
   "execution_count": 2,
   "metadata": {},
   "outputs": [],
   "source": [
    "DATA_INPUT_PATH = \"data/input\"\n",
    "DATA_OUTPUT_PATH = \"data/prepared\""
   ]
  },
  {
   "cell_type": "code",
   "execution_count": 3,
   "metadata": {},
   "outputs": [],
   "source": [
    "train_df = pd.read_csv(f'{DATA_INPUT_PATH}/train.csv', parse_dates=[2], low_memory=False)\n",
    "test_df = pd.read_csv(f'{DATA_INPUT_PATH}/test.csv', parse_dates=[3], low_memory=False)\n",
    "store_df = pd.read_csv(f'{DATA_INPUT_PATH}/store.csv')"
   ]
  },
  {
   "cell_type": "code",
   "execution_count": 4,
   "metadata": {},
   "outputs": [],
   "source": [
    "# Missing values in the open column in test_df, set them to 1 because all those days are Monday to Saturday\n",
    "test_df['Open'] = test_df['Open'].fillna(value=1)\n",
    "\n",
    "# Fill missing store information with simple 0, seems to work better than median imputation (https://www.kaggle.com/xwxw2929/rossmann-sales-top1)\n",
    "store_df = store_df.fillna(value=0)"
   ]
  },
  {
   "cell_type": "code",
   "execution_count": 5,
   "metadata": {},
   "outputs": [],
   "source": [
    "# Merge store information\n",
    "train_df = pd.merge(train_df, store_df, on='Store')\n",
    "test_df = pd.merge(test_df, store_df, on='Store')"
   ]
  },
  {
   "cell_type": "code",
   "execution_count": 6,
   "metadata": {},
   "outputs": [],
   "source": [
    "# Holidays for Prophet\n",
    "holidays_df = create_holidays(pd.concat([train_df, test_df]))\n",
    "\n",
    "# Feature creation\n",
    "train_df = create_features(train_df)\n",
    "test_df = create_features(test_df)\n",
    "\n",
    "# One hot encoding\n",
    "dummy_cols = ['StateHoliday', 'StoreType', 'Assortment']\n",
    "\n",
    "\n",
    "for col in dummy_cols:\n",
    "    encoder = OneHotEncoder()\n",
    "    encoder.fit(train_df[[col]])\n",
    "\n",
    "    train_dummies = encoder.transform(train_df[[col]])\n",
    "    test_dummies = encoder.transform(test_df[[col]])\n",
    "\n",
    "    train_df = pd.concat([train_df, \n",
    "                          pd.DataFrame(train_dummies.toarray(), \n",
    "                          columns=encoder.get_feature_names_out())], axis=1)\n",
    "    \n",
    "    test_df = pd.concat([test_df, \n",
    "                         pd.DataFrame(test_dummies.toarray(), \n",
    "                         columns=encoder.get_feature_names_out())], axis=1)\n",
    "\n",
    "    train_df = train_df.drop(col, axis=1)\n",
    "    test_df = test_df.drop(col, axis=1)"
   ]
  },
  {
   "cell_type": "code",
   "execution_count": 7,
   "metadata": {},
   "outputs": [],
   "source": [
    "# Save data to output folder\n",
    "train_df.to_pickle(f'{DATA_OUTPUT_PATH}/train_df.pkl')\n",
    "test_df.to_pickle(f'{DATA_OUTPUT_PATH}/test_df.pkl')\n",
    "holidays_df.to_pickle(f'{DATA_OUTPUT_PATH}/holidays_df.pkl')"
   ]
  }
 ],
 "metadata": {
  "interpreter": {
   "hash": "82d2047610b1daa4448cbca375db7b6bf136c8e63867fbd16061ccfd9df8834a"
  },
  "kernelspec": {
   "display_name": "Python 3.9.7 ('rossmann')",
   "language": "python",
   "name": "python3"
  },
  "language_info": {
   "codemirror_mode": {
    "name": "ipython",
    "version": 3
   },
   "file_extension": ".py",
   "mimetype": "text/x-python",
   "name": "python",
   "nbconvert_exporter": "python",
   "pygments_lexer": "ipython3",
   "version": "3.9.7"
  },
  "orig_nbformat": 4
 },
 "nbformat": 4,
 "nbformat_minor": 2
}
